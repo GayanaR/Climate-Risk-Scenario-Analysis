{
 "cells": [
  {
   "cell_type": "code",
   "source": [
    "# Financial Climate Risk Impact Summary\n",
    "import pandas as pd\n",
    "carbon_price = 85\n",
    "scope1_emissions = 300000\n",
    "renewable_capex = 10000000\n",
    "annual_material_inflation = 0.15\n",
    "carbon_cost = carbon_price * scope1_emissions\n",
    "material_costs = 80000000 * annual_material_inflation\n",
    "summary = {\n",
    "    'Carbon Pricing Impact (Annual)': f'${{carbon_cost:,.0f}}',\n",
    "    'Material Inflation (Annual)': f'${{material_costs:,.0f}}',\n",
    "    'Renewable Transition CAPEX': f'${{renewable_capex:,.0f}}'\n",
    "}\n",
    "df = pd.DataFrame(summary.items(), columns=['Driver', 'Estimated Impact'])\n",
    "print(df)\n",
    "df.to_excel('outputs/financial_impact_summary.xlsx', index=False)"
   ],
   "metadata": {},
   "execution_count": None,
   "outputs": []
  }
 ],
 "metadata": {},
 "nbformat": 4,
 "nbformat_minor": 2
}