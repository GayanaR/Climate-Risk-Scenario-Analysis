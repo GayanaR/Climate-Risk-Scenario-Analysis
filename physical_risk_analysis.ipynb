{
 "cells": [
  {
   "cell_type": "code",
   "source": [
    "# Climate Physical Risk Analysis\n",
    "import pandas as pd\n",
    "import geopandas as gpd\n",
    "import matplotlib.pyplot as plt\n",
    "facilities = gpd.read_file('data/facility_locations.geojson')\n",
    "flood_risk = gpd.read_file('data/physical_risks.geojson')\n",
    "at_risk = gpd.sjoin(facilities, flood_risk, how='inner', predicate='intersects')\n",
    "print(at_risk[['name', 'country', 'risk_level']])\n",
    "base = flood_risk.plot(color='lightblue', alpha=0.5)\n",
    "facilities.plot(ax=base, color='red', markersize=50)\n",
    "plt.title('Facility Locations & Flood Risk Overlay')\n",
    "plt.show()"
   ],
   "metadata": {},
   "execution_count": None,
   "outputs": []
  }
 ],
 "metadata": {},
 "nbformat": 4,
 "nbformat_minor": 2
}